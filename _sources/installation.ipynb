{
 "cells": [
  {
   "cell_type": "markdown",
   "id": "c3b5941f",
   "metadata": {},
   "source": [
    "# Installation\n",
    "\n",
    "The package can be installed directly with `pip` or from GitHub.\n",
    "\n",
    "## Pip\n",
    "\n",
    "GStatSim can be installed using the `pip` command:\n",
    "\n",
    "`pip install gstatsim`\n",
    "\n",
    "## GitHub\n",
    "\n",
    "The most recent version can be installed from GitHub via:\n",
    "\n",
    "`git clone https://github.com/GatorGlaciology/GStatSim`\n",
    "\n",
    "\n",
    "## Package dependencies\n",
    "* Numpy\n",
    "* Pandas\n",
    "* Scipy\n",
    "* tqdm\n",
    "* Sklearn\n",
    "\n",
    "## Requirements for visualization and variogram analysis\n",
    "* Matplotlib\n",
    "* SciKit-GStat\n",
    "\n",
    "These can all be installed using `pip`. We have included a plot_utils.py file with plotting routines for the tutorials."
   ]
  }
 ],
 "metadata": {
  "jupytext": {
   "cell_metadata_filter": "-all",
   "formats": "md:myst",
   "text_representation": {
    "extension": ".md",
    "format_name": "myst",
    "format_version": 0.13,
    "jupytext_version": "1.11.5"
   }
  },
  "kernelspec": {
   "display_name": "Python 3",
   "language": "python",
   "name": "python3"
  },
  "language_info": {
   "codemirror_mode": {
    "name": "ipython",
    "version": 3
   },
   "file_extension": ".py",
   "mimetype": "text/x-python",
   "name": "python",
   "nbconvert_exporter": "python",
   "pygments_lexer": "ipython3",
   "version": "3.9.7"
  },
  "source_map": [
   14
  ]
 },
 "nbformat": 4,
 "nbformat_minor": 5
}