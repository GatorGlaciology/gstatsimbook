{
 "cells": [
  {
   "cell_type": "markdown",
   "id": "512cbb07",
   "metadata": {},
   "source": [
    "# Installation\n",
    "\n",
    "The package can be installed directly with `pip` or from GitHub.\n",
    "\n",
    "## Pip\n",
    "\n",
    "GStatSim can be installed using the `pip` command:"
   ]
  },
  {
   "cell_type": "code",
   "execution_count": 1,
   "id": "f27d505e",
   "metadata": {
    "tags": [
     "hide-output"
    ]
   },
   "outputs": [
    {
     "name": "stdout",
     "output_type": "stream",
     "text": [
      "Requirement already satisfied: gstatsim in /Users/mackie3/opt/anaconda3/lib/python3.9/site-packages (1.0.2)\r\n",
      "Requirement already satisfied: numpy>=1.14.5 in /Users/mackie3/opt/anaconda3/lib/python3.9/site-packages (from gstatsim) (1.21.6)\r\n",
      "Requirement already satisfied: pandas>=1.1.1 in /Users/mackie3/opt/anaconda3/lib/python3.9/site-packages (from gstatsim) (1.3.4)\r\n",
      "Requirement already satisfied: scipy>=1.1.1 in /Users/mackie3/opt/anaconda3/lib/python3.9/site-packages (from gstatsim) (1.7.3)\r\n",
      "Requirement already satisfied: tqdm>=3 in /Users/mackie3/opt/anaconda3/lib/python3.9/site-packages (from gstatsim) (4.64.1)\r\n",
      "Requirement already satisfied: scikit-learn>=1.1.2 in /Users/mackie3/opt/anaconda3/lib/python3.9/site-packages (from gstatsim) (1.1.2)\r\n",
      "Requirement already satisfied: python-dateutil>=2.7.3 in /Users/mackie3/opt/anaconda3/lib/python3.9/site-packages (from pandas>=1.1.1->gstatsim) (2.8.2)\r\n",
      "Requirement already satisfied: pytz>=2017.3 in /Users/mackie3/opt/anaconda3/lib/python3.9/site-packages (from pandas>=1.1.1->gstatsim) (2021.3)\r\n"
     ]
    },
    {
     "name": "stdout",
     "output_type": "stream",
     "text": [
      "Requirement already satisfied: joblib>=1.0.0 in /Users/mackie3/opt/anaconda3/lib/python3.9/site-packages (from scikit-learn>=1.1.2->gstatsim) (1.1.0)\r\n",
      "Requirement already satisfied: threadpoolctl>=2.0.0 in /Users/mackie3/opt/anaconda3/lib/python3.9/site-packages (from scikit-learn>=1.1.2->gstatsim) (2.2.0)\r\n",
      "Requirement already satisfied: six>=1.5 in /Users/mackie3/opt/anaconda3/lib/python3.9/site-packages (from python-dateutil>=2.7.3->pandas>=1.1.1->gstatsim) (1.16.0)\r\n"
     ]
    },
    {
     "name": "stdout",
     "output_type": "stream",
     "text": [
      "Note: you may need to restart the kernel to use updated packages.\n"
     ]
    }
   ],
   "source": [
    "pip install gstatsim"
   ]
  },
  {
   "cell_type": "markdown",
   "id": "35f07587",
   "metadata": {},
   "source": [
    "## GitHub\n",
    "\n",
    "The most recent version can be installed from GitHub via:"
   ]
  },
  {
   "cell_type": "code",
   "execution_count": 2,
   "id": "e308db2b",
   "metadata": {
    "tags": [
     "hide-output"
    ]
   },
   "outputs": [
    {
     "ename": "SyntaxError",
     "evalue": "invalid syntax (4198028348.py, line 1)",
     "output_type": "error",
     "traceback": [
      "\u001b[0;36m  File \u001b[0;32m\"/var/folders/3d/s79lt6q910z0whw_7c_z48lc0000gp/T/ipykernel_19530/4198028348.py\"\u001b[0;36m, line \u001b[0;32m1\u001b[0m\n\u001b[0;31m    git clone https://github.com/GatorGlaciology/GStatSim\u001b[0m\n\u001b[0m        ^\u001b[0m\n\u001b[0;31mSyntaxError\u001b[0m\u001b[0;31m:\u001b[0m invalid syntax\n"
     ]
    }
   ],
   "source": [
    "git clone https://github.com/GatorGlaciology/GStatSim"
   ]
  },
  {
   "cell_type": "markdown",
   "id": "68909132",
   "metadata": {},
   "source": [
    "## Package dependencies\n",
    "* Numpy\n",
    "* Pandas\n",
    "* Scipy\n",
    "* tqdm\n",
    "* Sklearn\n",
    "\n",
    "## Requirements for visualization and variogram analysis\n",
    "* Matplotlib\n",
    "* SciKit-GStat\n",
    "\n",
    "These can all be installed using `pip`."
   ]
  }
 ],
 "metadata": {
  "jupytext": {
   "cell_metadata_filter": "-all",
   "formats": "md:myst",
   "text_representation": {
    "extension": ".md",
    "format_name": "myst",
    "format_version": 0.13,
    "jupytext_version": "1.11.5"
   }
  },
  "kernelspec": {
   "display_name": "Python 3",
   "language": "python",
   "name": "python3"
  },
  "language_info": {
   "codemirror_mode": {
    "name": "ipython",
    "version": 3
   },
   "file_extension": ".py",
   "mimetype": "text/x-python",
   "name": "python",
   "nbconvert_exporter": "python",
   "pygments_lexer": "ipython3",
   "version": "3.9.7"
  },
  "source_map": [
   14,
   24,
   27,
   33,
   36
  ]
 },
 "nbformat": 4,
 "nbformat_minor": 5
}