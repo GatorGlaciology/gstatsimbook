{
 "cells": [
  {
   "cell_type": "markdown",
   "metadata": {},
   "source": [
    "# Interpolation comparison using different variogram models\n",
    "\n",
    "Earlier we saw that there are different types of variogram models with different shapes. In this script, we'll use a synthetic example to explore how the variogram model affects the interpolation. For this example, we need to use GStools (https://github.com/GeoStat-Framework/GSTools) to generate an example data set. "
   ]
  },
  {
   "cell_type": "code",
   "execution_count": 1,
   "metadata": {},
   "outputs": [],
   "source": [
    "import numpy as np\n",
    "import pandas as pd\n",
    "import matplotlib.pyplot as plt\n",
    "from sklearn.preprocessing import QuantileTransformer \n",
    "import gstatsim as gs\n",
    "import skgstat as skg\n",
    "from skgstat import models\n",
    "import random\n",
    "import gstools as gst"
   ]
  },
  {
   "cell_type": "code",
   "execution_count": 2,
   "metadata": {},
   "outputs": [
    {
     "data": {
      "text/plain": [
       "(-3.465865820435638, 103.21900300391795, -4.6238074779174, 104.79195097305539)"
      ]
     },
     "execution_count": 2,
     "metadata": {},
     "output_type": "execute_result"
    },
    {
     "data": {
      "image/png": "[encoded data removed]",
      "text/plain": [
       "<Figure size 432x288 with 2 Axes>"
      ]
     },
     "metadata": {
      "needs_background": "light"
     },
     "output_type": "display_data"
    }
   ],
   "source": [
    "# create random conditioning data using GSTools\n",
    "x = np.random.RandomState(100000).rand(100) * 100.\n",
    "y = np.random.RandomState(200000).rand(100) * 100.\n",
    "model = gst.Gaussian(dim=2, var=2, len_scale =8)\n",
    "srf = gst.SRF(model, mean=0, seed=300000)\n",
    "field = srf((x,y))\n",
    "\n",
    "# plot synthetic conditioning data\n",
    "fig = plt.figure()\n",
    "im = plt.scatter(x,y, c = field, vmin = -5, vmax = 5, marker=\".\", s = 50)       # scatter plot for location map\n",
    "plt.title('Synthetic conditioning data')                                    # add plot title\n",
    "plt.xlabel('X'); plt.ylabel('Y')                          # set axis labels\n",
    "cbar = plt.colorbar(im, orientation=\"vertical\", ticks=np.linspace(-5, 5, 11)) # add vertical color bar\n",
    "plt.subplots_adjust(left=0.0, bottom=0.0, right=1.0, top=1.0) # adjust the plot size\n",
    "plt.axis('scaled')"
   ]
  },
  {
   "cell_type": "code",
   "execution_count": 3,
   "metadata": {},
   "outputs": [
    {
     "data": {
      "text/html": [
       "<div>\n",
       "<style scoped>\n",
       "    .dataframe tbody tr th:only-of-type {\n",
       "        vertical-align: middle;\n",
       "    }\n",
       "\n",
       "    .dataframe tbody tr th {\n",
       "        vertical-align: top;\n",
       "    }\n",
       "\n",
       "    .dataframe thead th {\n",
       "        text-align: right;\n",
       "    }\n",
       "</style>\n",
       "<table border=\"1\" class=\"dataframe\">\n",
       "  <thead>\n",
       "    <tr style=\"text-align: right;\">\n",
       "      <th></th>\n",
       "      <th>X</th>\n",
       "      <th>Y</th>\n",
       "      <th>Z</th>\n",
       "    </tr>\n",
       "  </thead>\n",
       "  <tbody>\n",
       "    <tr>\n",
       "      <th>0</th>\n",
       "      <td>28.756086</td>\n",
       "      <td>74.131298</td>\n",
       "      <td>-4.624638</td>\n",
       "    </tr>\n",
       "    <tr>\n",
       "      <th>1</th>\n",
       "      <td>50.824819</td>\n",
       "      <td>36.393990</td>\n",
       "      <td>0.233011</td>\n",
       "    </tr>\n",
       "    <tr>\n",
       "      <th>2</th>\n",
       "      <td>49.804102</td>\n",
       "      <td>26.813835</td>\n",
       "      <td>1.402964</td>\n",
       "    </tr>\n",
       "    <tr>\n",
       "      <th>3</th>\n",
       "      <td>78.166945</td>\n",
       "      <td>51.162204</td>\n",
       "      <td>-1.575844</td>\n",
       "    </tr>\n",
       "    <tr>\n",
       "      <th>4</th>\n",
       "      <td>12.240347</td>\n",
       "      <td>28.640275</td>\n",
       "      <td>2.443942</td>\n",
       "    </tr>\n",
       "  </tbody>\n",
       "</table>\n",
       "</div>"
      ],
      "text/plain": [
       "           X          Y         Z\n",
       "0  28.756086  74.131298 -4.624638\n",
       "1  50.824819  36.393990  0.233011\n",
       "2  49.804102  26.813835  1.402964\n",
       "3  78.166945  51.162204 -1.575844\n",
       "4  12.240347  28.640275  2.443942"
      ]
     },
     "execution_count": 3,
     "metadata": {},
     "output_type": "execute_result"
    }
   ],
   "source": [
    "# make dataframe\n",
    "data = np.transpose([x,y,field])\n",
    "df = pd.DataFrame(data, columns = ['X','Y','Z'])\n",
    "df.head()"
   ]
  },
  {
   "cell_type": "code",
   "execution_count": 4,
   "metadata": {},
   "outputs": [],
   "source": [
    "# compute experimental variogram\n",
    "\n",
    "coords = np.column_stack((x, y))\n",
    "maxlag = 100      # maximum range distance\n",
    "n_lags = 20         # num of bins\n",
    "\n",
    "# compute variogram\n",
    "V1 = skg.Variogram(coords, field, bin_func='even', n_lags=n_lags, maxlag=maxlag, normalize=False)"
   ]
  },
  {
   "cell_type": "markdown",
   "metadata": {},
   "source": [
    "## Fit variogram models"
   ]
  },
  {
   "cell_type": "code",
   "execution_count": 5,
   "metadata": {},
   "outputs": [
    {
     "data": {
      "text/plain": [
       "[22.693182036298424, 1.6451578282438488, 0]"
      ]
     },
     "execution_count": 5,
     "metadata": {},
     "output_type": "execute_result"
    }
   ],
   "source": [
    "V1.model = 'gaussian' \n",
    "V1.parameters"
   ]
  },
  {
   "cell_type": "code",
   "execution_count": 6,
   "metadata": {},
   "outputs": [
    {
     "data": {
      "text/plain": [
       "[33.29055134096311, 1.6759340172030575, 0]"
      ]
     },
     "execution_count": 6,
     "metadata": {},
     "output_type": "execute_result"
    }
   ],
   "source": [
    "V2 = V1\n",
    "V2.model = 'exponential' \n",
    "V2.parameters"
   ]
  },
  {
   "cell_type": "code",
   "execution_count": 7,
   "metadata": {},
   "outputs": [
    {
     "data": {
      "text/plain": [
       "[25.747523836656736, 1.6461667327050256, 0]"
      ]
     },
     "execution_count": 7,
     "metadata": {},
     "output_type": "execute_result"
    }
   ],
   "source": [
    "V3 = V1\n",
    "V3.model = 'spherical' \n",
    "V3.parameters"
   ]
  },
  {
   "cell_type": "code",
   "execution_count": 8,
   "metadata": {},
   "outputs": [
    {
     "data": {
      "text/plain": [
       "<matplotlib.legend.Legend at 0x7fb9a979b8b0>"
      ]
     },
     "execution_count": 8,
     "metadata": {},
     "output_type": "execute_result"
    },
    {
     "data": {
      "image/png": "[encoded data removed]",
      "text/plain": [
       "<Figure size 432x288 with 1 Axes>"
      ]
     },
     "metadata": {
      "needs_background": "light"
     },
     "output_type": "display_data"
    }
   ],
   "source": [
    "# plot variograms\n",
    "\n",
    "# extract experimental variogram values\n",
    "xdata = V1.bins\n",
    "ydata = V1.experimental\n",
    "\n",
    "# evaluate models\n",
    "xi = np.linspace(0, xdata[-1], 100) \n",
    "y_gauss = [models.gaussian(h, V1.parameters[0], V1.parameters[1], V1.parameters[2]) for h in xi]\n",
    "\n",
    "y_exp = [models.exponential(h, V2.parameters[0], V2.parameters[1], V2.parameters[2]) for h in xi]\n",
    "\n",
    "y_sph = [models.spherical(h, V3.parameters[0], V3.parameters[1], V3.parameters[2]) for h in xi]\n",
    "\n",
    "# plot variogram model\n",
    "fig = plt.figure(figsize=(6,4))\n",
    "plt.plot(xi, y_gauss,'b--', label='Gaussian variogram')\n",
    "plt.plot(xi, y_exp,'b-', label='Exponential variogram')\n",
    "plt.plot(xi, y_sph,'b*-', label='Spherical variogram')\n",
    "plt.plot(xdata, ydata,'og', markersize=4, label='Experimental variogram')\n",
    "plt.title('Variogram for synthetic data')\n",
    "plt.xlabel('Lag [m]'); plt.ylabel('Semivariance')  \n",
    "plt.legend(loc='lower right')"
   ]
  },
  {
   "cell_type": "markdown",
   "metadata": {},
   "source": [
    "## Initialize grid\n",
    "\n",
    "Make list of grid cells that need to be simulated."
   ]
  },
  {
   "cell_type": "code",
   "execution_count": 9,
   "metadata": {},
   "outputs": [],
   "source": [
    "# define coordinate grid\n",
    "xmin = 0; xmax = 100     # min and max x values\n",
    "ymin = 0; ymax = 100     # min and max y values\n",
    "res = 1\n",
    "\n",
    "Pred_grid_xy = gs.Gridding.prediction_grid(xmin, xmax, ymin, ymax, res)"
   ]
  },
  {
   "cell_type": "markdown",
   "metadata": {},
   "source": [
    "## Sequential Gaussian simulation\n",
    "\n",
    "In this example we use okrige_sgs."
   ]
  },
  {
   "cell_type": "code",
   "execution_count": 10,
   "metadata": {},
   "outputs": [],
   "source": [
    "# set variogram parameters\n",
    "azimuth = 0\n",
    "nugget = V1.parameters[2]\n",
    "\n",
    "# save variogram parameters as a list\n",
    "vtype = 'Gaussian'\n",
    "vario1 = [azimuth, V1.parameters[2], V1.parameters[0], V1.parameters[0], V1.parameters[1], vtype]\n",
    "\n",
    "vtype = 'Exponential'\n",
    "vario2 = [azimuth, V2.parameters[2], V2.parameters[0], V2.parameters[0], V2.parameters[1], vtype]\n",
    "\n",
    "vtype = 'Spherical'\n",
    "vario3 = [azimuth, V3.parameters[2], V3.parameters[0], V3.parameters[0], V3.parameters[1], vtype]\n",
    "\n",
    "k = 48      # number of neighboring data points used to estimate a given point \n",
    "rad = 50    # search radius"
   ]
  },
  {
   "cell_type": "code",
   "execution_count": null,
   "metadata": {},
   "outputs": [
    {
     "name": "stderr",
     "output_type": "stream",
     "text": [
      "100%|████████████████████████████████████| 10201/10201 [01:21<00:00, 124.59it/s]\n",
      "100%|████████████████████████████████████| 10201/10201 [01:14<00:00, 136.59it/s]\n",
      " 26%|█████████▌                           | 2628/10201 [00:16<00:47, 158.08it/s]"
     ]
    }
   ],
   "source": [
    "# simulation\n",
    "\n",
    "sim_gauss = gs.Interpolation.okrige_sgs(Pred_grid_xy, df, 'X', 'Y', 'Z', k, vario1, rad) \n",
    "\n",
    "sim_exp = gs.Interpolation.okrige_sgs(Pred_grid_xy, df, 'X', 'Y', 'Z', k, vario2, rad) \n",
    "\n",
    "sim_sph = gs.Interpolation.okrige_sgs(Pred_grid_xy, df, 'X', 'Y', 'Z', k, vario3, rad) "
   ]
  },
  {
   "cell_type": "code",
   "execution_count": null,
   "metadata": {
    "tags": [
     "hide-input"
    ]
   },
   "outputs": [],
   "source": [
    "vmax = 5\n",
    "vmin = -vmax\n",
    "\n",
    "fig = plt.figure()\n",
    "plt.subplot(131)\n",
    "im = plt.imshow(sim_gauss.reshape(101,101), vmin = vmin, vmax = vmax)\n",
    "plt.subplots_adjust(left=0.0, bottom=0.0, right=2.5, top=.75) # adjust the plot size\n",
    "plt.colorbar()\n",
    "plt.title('Gaussian SGS')\n",
    "\n",
    "plt.subplot(132)\n",
    "im = plt.imshow(sim_exp.reshape(101,101), vmin = vmin, vmax = vmax)\n",
    "plt.subplots_adjust(left=0.0, bottom=0.0, right=2.5, top=.75) # adjust the plot size\n",
    "plt.colorbar()\n",
    "plt.title('Exponential SGS')\n",
    "\n",
    "plt.subplot(133)\n",
    "im = plt.imshow(sim_sph.reshape(101,101), vmin = vmin, vmax = vmax) \n",
    "plt.subplots_adjust(left=0.0, bottom=0.0, right=2.5, top=.75) # adjust the plot size\n",
    "plt.colorbar()\n",
    "plt.title('Spherical SGS')\n"
   ]
  },
  {
   "cell_type": "markdown",
   "metadata": {},
   "source": [
    "Here we can see that SGS with different variogram models has different spatial characteristics. For example, the Gaussian SGS realization is very smooth because the Gaussian variogram model is nearly zero at small lags. "
   ]
  },
  {
   "cell_type": "code",
   "execution_count": null,
   "metadata": {},
   "outputs": [],
   "source": [
    "# kriging\n",
    "krige_gauss, var_gauss = gs.Interpolation.okrige(Pred_grid_xy, df, 'X', 'Y', 'Z', k, vario1, rad) \n",
    "\n",
    "krige_exp, var_exp = gs.Interpolation.okrige(Pred_grid_xy, df, 'X', 'Y', 'Z', k, vario2, rad) \n",
    "\n",
    "krige_sph, var_sph = gs.Interpolation.okrige(Pred_grid_xy, df, 'X', 'Y', 'Z', k, vario3, rad) "
   ]
  },
  {
   "cell_type": "code",
   "execution_count": null,
   "metadata": {
    "tags": [
     "hide-input"
    ]
   },
   "outputs": [],
   "source": [
    "# kriging plots\n",
    "vmax = 5\n",
    "vmin = -vmax\n",
    "\n",
    "fig = plt.figure()\n",
    "plt.subplot(231)\n",
    "im = plt.imshow(krige_gauss.reshape(101,101), vmin = vmin, vmax = vmax)\n",
    "plt.subplots_adjust(left=0.0, bottom=0.0, right=2.5, top=.75) # adjust the plot size\n",
    "plt.colorbar()\n",
    "plt.title('Gaussian Kriging')\n",
    "\n",
    "plt.subplot(232)\n",
    "im = plt.imshow(krige_exp.reshape(101,101), vmin = vmin, vmax = vmax)\n",
    "plt.subplots_adjust(left=0.0, bottom=0.0, right=2.5, top=.75) # adjust the plot size\n",
    "plt.colorbar()\n",
    "plt.title('Exponential Kriging')\n",
    "\n",
    "plt.subplot(233)\n",
    "im = plt.imshow(krige_sph.reshape(101,101), vmin = vmin, vmax = vmax)\n",
    "plt.subplots_adjust(left=0.0, bottom=0.0, right=2.5, top=.75) # adjust the plot size\n",
    "plt.colorbar()\n",
    "plt.title('Spherical Kriging')\n",
    "\n",
    "plt.subplot(234)\n",
    "im = plt.imshow(np.sqrt(var_gauss.reshape(101,101)), vmin = 0, vmax = 1.5, cmap = 'magma')\n",
    "plt.subplots_adjust(left=0.0, bottom=0.0, right=2.5, top=.75) # adjust the plot size\n",
    "plt.colorbar()\n",
    "plt.title('Gaussian kriging standard deviation')\n",
    "\n",
    "plt.subplot(235)\n",
    "im = plt.imshow(np.sqrt(var_exp.reshape(101,101)), vmin = 0, vmax = 1.5, cmap = 'magma')\n",
    "plt.subplots_adjust(left=0.0, bottom=0.0, right=2.5, top=.75) # adjust the plot size\n",
    "plt.colorbar()\n",
    "plt.title('Exponential kriging standard deviation')\n",
    "\n",
    "plt.subplot(236)\n",
    "im = plt.imshow(np.sqrt(var_sph.reshape(101,101)), vmin = 0, vmax = 1.5, cmap = 'magma')\n",
    "plt.subplots_adjust(left=0.0, bottom=0.0, right=2.5, top=1.75) # adjust the plot size\n",
    "plt.colorbar()\n",
    "plt.title('Spherical kriging standard deviation')\n"
   ]
  },
  {
   "cell_type": "markdown",
   "metadata": {},
   "source": [
    "The different kriging results are fairly similar, but the uncertainties are much lower for the Gaussian model and greater for the Exponential model. So using the wrong variogram model type could cause you to overestimate or underestimate the uncertainty.\n",
    "\n",
    "To choose the right variogram model, you can compare the different variogram models to the experimental variogram to see which one fits best. In some cases, the best choice might be unclear. It is also important to consider the geological phenomena you are modeling and the type of spatial structure it has. For example, if you are modeling a geological condition that you know is smoothly varying, then you would most likely want to use a Gaussian variogram.\n",
    "\n",
    "Download the tutorial {Download}`here<./5_Variogram_interpolation_comparison.ipynb>`."
   ]
  },
  {
   "cell_type": "code",
   "execution_count": null,
   "metadata": {},
   "outputs": [],
   "source": []
  }
 ],
 "metadata": {
  "celltoolbar": "Edit Metadata",
  "kernelspec": {
   "display_name": "Python 3 (ipykernel)",
   "language": "python",
   "name": "python3"
  },
  "language_info": {
   "codemirror_mode": {
    "name": "ipython",
    "version": 3
   },
   "file_extension": ".py",
   "mimetype": "text/x-python",
   "name": "python",
   "nbconvert_exporter": "python",
   "pygments_lexer": "ipython3",
   "version": "3.9.7"
  }
 },
 "nbformat": 4,
 "nbformat_minor": 4
}
